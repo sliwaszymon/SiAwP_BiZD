{
 "cells": [
  {
   "cell_type": "markdown",
   "source": [
    "# ZADANIE 1"
   ],
   "metadata": {
    "collapsed": false
   },
   "id": "7bd50f55f0e4d09f"
  },
  {
   "cell_type": "code",
   "execution_count": 28,
   "outputs": [
    {
     "name": "stdout",
     "output_type": "stream",
     "text": [
      "Próba losowa: [ 16.90142459  -2.14792904  21.43065614  47.69089569  -5.02460124\n",
      "  -5.02410871  49.37638447  25.02304187 -12.08423158  18.27680131\n",
      " -11.90253078 -11.97189261   9.25886815 -55.39840734 -49.74753498\n",
      " -14.86862588 -28.38493361  11.42741998 -25.24072227 -40.36911104\n",
      "  45.96946307  -4.77328901   4.02584614 -40.74244559 -14.33148174\n",
      "   5.32767769 -32.52980732  13.27094055 -16.0191607   -6.75081249\n",
      " -16.05119837  57.56834554   1.59508326 -29.73132787  26.67634736\n",
      " -34.6253095    8.26590785 -56.79010372 -37.84558147   7.90583708\n",
      "  24.1539974    7.14104844  -1.46944847  -7.03311087 -42.35565971\n",
      " -19.59532625 -11.81916313  33.71366679  12.30854869 -50.89120466\n",
      "  11.72251908  -9.55246841 -18.30766001  20.35028867  32.92998567\n",
      "  29.93840357 -23.1765257   -7.27637128  11.93790294  31.26635381\n",
      " -12.37522714  -3.5697693  -31.19004922 -33.88619872  26.37577467\n",
      "  42.68720086  -0.16030365  32.10598694  12.84908075 -17.35359264\n",
      "  12.84186817  48.14109699   0.92521883  48.93930967 -76.59235312\n",
      "  26.65707513   4.61141205  -6.97022051   4.7528233  -57.62706744\n",
      "  -4.59015664  12.71337715  46.33682134 -13.54810655 -22.25480809\n",
      " -13.05271131  29.46206353  11.86253329 -13.89280611  17.39802299\n",
      "   4.91232648  31.05934972 -19.06159282  -7.8298644   -9.76324459\n",
      " -41.90544844  10.88360831   9.83165817   2.1534037   -5.037614\n",
      " -40.46112226 -10.61935968  -8.2814355  -22.06831808  -2.83857135\n",
      "  14.1215257   58.58557704   7.23733438   9.72651172  -0.23337747\n",
      " -55.56313646   1.20458374   3.8069063   75.89726337  -3.77082894\n",
      "  11.04642027   0.95864691 -33.06034113  36.28468444  24.55799098\n",
      "  25.73095841 -25.28162364  44.08382933 -40.05553188  19.60571281\n",
      "  67.71366877 -27.71608975 -14.98893189   4.98954095 -13.10426962\n",
      " -44.51990293   4.05688924 -29.86911141  16.20777292 -25.58272703\n",
      "  48.49803215 -21.49759877  -7.66184549  26.40551652 -34.92592949\n",
      "   8.82379804  41.21428263 -46.22449704   7.53901576   9.79648383\n",
      "  25.45468615 -35.10852133 -37.61369839  17.65824697  10.9095402\n",
      "   9.51478551  12.39344628 -18.40074165   8.96761091  10.7921742\n",
      " -19.43054254  57.97323533  16.21498763 -33.73910492  21.69660826\n",
      " -27.24045011  25.61253811  36.75786737 -22.62046955  30.90128388\n",
      "  14.38342781  26.6618048   58.90378948  -5.36164348 -20.61208493\n",
      " -24.68543289 -22.47430855  -0.31305128  12.23455924  10.30072398\n",
      "  26.81549747   2.39005676  45.60602231  -5.939705    83.605075\n",
      "  20.77002043 -23.71472669 -30.12677494  16.47417246  -4.70388356\n",
      "  23.42001482  16.19712874  -0.18486738 -23.40381154 -43.44541674\n",
      " -11.39544856  27.69196383   8.42281232 -35.37216336   7.19542778\n",
      "  13.55952139 -24.51572309   6.61175318   3.74626155 -32.28910893]\n",
      "Statystyka t: -0.8724891121311197\n",
      "Wartość p: 0.3839931090277108\n",
      "Nie ma wystarczających dowodów na odrzucenie hipotezy zerowej.\n"
     ]
    }
   ],
   "source": [
    "import numpy as np\n",
    "from scipy.stats import ttest_1samp\n",
    "\n",
    "# Parametry rozkładu normalnego\n",
    "srednia = 2\n",
    "odchylenie = 30\n",
    "liczba_elementow = 200\n",
    "\n",
    "# Generowanie próby losowej\n",
    "np.random.seed(42)  # Zapewnienie powtarzalności wyników\n",
    "proba = np.random.normal(srednia, odchylenie, liczba_elementow)\n",
    "\n",
    "# Wydruk próby losowej (opcjonalne)\n",
    "print(\"Próba losowa:\", proba)\n",
    "\n",
    "# Test t dla średniej\n",
    "statystyka_t, p_value = ttest_1samp(proba, 2.5)\n",
    "\n",
    "# Wydruk wyników\n",
    "print(\"Statystyka t:\", statystyka_t)\n",
    "print(\"Wartość p:\", p_value)\n",
    "\n",
    "# Interpretacja wyników\n",
    "poziom_istotności = 0.05\n",
    "if p_value < poziom_istotności:\n",
    "    print(\"Odrzucamy hipotezę zerową. Istnieją istotne różnice między średnią próby a wartością referencyjną (2,5).\")\n",
    "else:\n",
    "    print(\"Nie ma wystarczających dowodów na odrzucenie hipotezy zerowej.\")"
   ],
   "metadata": {
    "collapsed": false,
    "ExecuteTime": {
     "end_time": "2023-12-05T07:53:56.159956700Z",
     "start_time": "2023-12-05T07:53:56.020889400Z"
    }
   },
   "id": "a1b7efb36d0aa105"
  },
  {
   "cell_type": "markdown",
   "source": [
    "# ZADANIE 2"
   ],
   "metadata": {
    "collapsed": false
   },
   "id": "5dd1e0c167c3eab3"
  },
  {
   "cell_type": "code",
   "execution_count": 29,
   "outputs": [
    {
     "name": "stdout",
     "output_type": "stream",
     "text": [
      "Statystyka t dla piwa Lech: 1.646503944538866\n",
      "Wartość p dla piwa Lech: 0.10130442686854732\n",
      "Statystyka t dla Coli: 6.391908975571081\n",
      "Wartość p dla Colo: 1.2249714535216758e-09\n",
      "Statystyka t dla piw regionalnych: 17.440927488514944\n",
      "Wartość p dla piw regionalnych: 2.2572528828603765e-41\n"
     ]
    }
   ],
   "source": [
    "import pandas as pd\n",
    "\n",
    "df = pd.read_csv(\"../docs/napoje.csv\", sep=\";\")\n",
    "df.head()\n",
    "\n",
    "# Definicja hipotez\n",
    "hipoteza_piwo_lech = 60500\n",
    "hipoteza_cola = 222000\n",
    "hipoteza_piwa_regionalne = 43500\n",
    "\n",
    "# Test t dla piwa Lech\n",
    "statystyka_t_piwo_lech, p_value_piwo_lech = ttest_1samp(df['lech'], hipoteza_piwo_lech)\n",
    "\n",
    "# Test t dla coli\n",
    "statystyka_t_cola, p_value_cola = ttest_1samp(df['cola'], hipoteza_cola)\n",
    "\n",
    "# Test t dla piw regionalnych\n",
    "statystyka_t_piwa_regionalne, p_value_piwa_regionalne = ttest_1samp(df['regionalne'], hipoteza_piwa_regionalne)\n",
    "\n",
    "# Wydruk wyników\n",
    "print(\"Statystyka t dla piwa Lech:\", statystyka_t_piwo_lech)\n",
    "print(\"Wartość p dla piwa Lech:\", p_value_piwo_lech)\n",
    "\n",
    "print(\"Statystyka t dla Coli:\", statystyka_t_cola)\n",
    "print(\"Wartość p dla Colo:\", p_value_cola)\n",
    "\n",
    "print(\"Statystyka t dla piw regionalnych:\", statystyka_t_piwa_regionalne)\n",
    "print(\"Wartość p dla piw regionalnych:\", p_value_piwa_regionalne)"
   ],
   "metadata": {
    "collapsed": false,
    "ExecuteTime": {
     "end_time": "2023-12-05T07:53:56.162968900Z",
     "start_time": "2023-12-05T07:53:56.033432600Z"
    }
   },
   "id": "7cc693d72d77135d"
  },
  {
   "cell_type": "markdown",
   "source": [
    "# ZADANIE 3"
   ],
   "metadata": {
    "collapsed": false
   },
   "id": "56f16237773068b3"
  },
  {
   "cell_type": "code",
   "execution_count": 30,
   "outputs": [
    {
     "name": "stdout",
     "output_type": "stream",
     "text": [
      "Kolumna: pepsi - Statystyka: 0.9912384748458862, Wartość p: 0.2968809902667999\n",
      "Nie ma podstaw do odrzucenia hipotezy zerowej (rozkład jest normalny).\n",
      "\n",
      "Kolumna: fanta - Statystyka: 0.9894830584526062, Wartość p: 0.17036965489387512\n",
      "Nie ma podstaw do odrzucenia hipotezy zerowej (rozkład jest normalny).\n",
      "\n",
      "Kolumna: żywiec - Statystyka: 0.9913601875305176, Wartość p: 0.3080885708332062\n",
      "Nie ma podstaw do odrzucenia hipotezy zerowej (rozkład jest normalny).\n",
      "\n",
      "Kolumna: okocim - Statystyka: 0.9875098466873169, Wartość p: 0.08890535682439804\n",
      "Nie ma podstaw do odrzucenia hipotezy zerowej (rozkład jest normalny).\n",
      "\n",
      "Kolumna: regionalne - Statystyka: 0.936504602432251, Wartość p: 1.8769230791804148e-07\n",
      "Odrzucamy hipotezę zerową (rozkład nie jest normalny).\n",
      "\n",
      "Kolumna: cola - Statystyka: 0.993564248085022, Wartość p: 0.5694407224655151\n",
      "Nie ma podstaw do odrzucenia hipotezy zerowej (rozkład jest normalny).\n",
      "\n",
      "Kolumna: lech - Statystyka: 0.9936927556991577, Wartość p: 0.5875554084777832\n",
      "Nie ma podstaw do odrzucenia hipotezy zerowej (rozkład jest normalny).\n"
     ]
    }
   ],
   "source": [
    "from scipy.stats import shapiro\n",
    "\n",
    "picie = df[['pepsi', 'fanta', 'żywiec', 'okocim', 'regionalne', 'cola', 'lech']]\n",
    "\n",
    "# Iteracja po nazwach kolumn i przeprowadzenie testu Shapiro-Wilka\n",
    "for column in picie.columns:\n",
    "    stat, p_value = shapiro(df[column])\n",
    "    print(f\"Kolumna: {column} - Statystyka: {stat}, Wartość p: {p_value}\")\n",
    "\n",
    "    # Interpretacja wyników  przy poziomie istotności 0.05\n",
    "    if p_value > 0.05:\n",
    "        print(\"Nie ma podstaw do odrzucenia hipotezy zerowej (rozkład jest normalny).\\n\")\n",
    "    else:\n",
    "        print(\"Odrzucamy hipotezę zerową (rozkład nie jest normalny).\\n\")"
   ],
   "metadata": {
    "collapsed": false,
    "ExecuteTime": {
     "end_time": "2023-12-05T07:53:56.193954900Z",
     "start_time": "2023-12-05T07:53:56.053901300Z"
    }
   },
   "id": "7a9b44ce40e1a603"
  },
  {
   "cell_type": "markdown",
   "source": [
    "# ZADANIE 4"
   ],
   "metadata": {
    "collapsed": false
   },
   "id": "7e9c3b502ad1280e"
  },
  {
   "cell_type": "code",
   "execution_count": 31,
   "outputs": [
    {
     "name": "stdout",
     "output_type": "stream",
     "text": [
      "Para: okocim - lech\n",
      "Statystyka t: -0.8323919685480173\n",
      "Wartość p: 0.4057094127869081\n",
      "Nie ma wystarczających dowodów na odrzucenie hipotezy zerowej.\n",
      "\n",
      "Para: fanta - regionalne\n",
      "Statystyka t: -11.013919429372727\n",
      "Wartość p: 1.5816080737025605e-24\n",
      "Odrzucamy hipotezę zerową. Istnieją istotne różnice między średnimi.\n",
      "\n",
      "Para: cola - pepsi\n",
      "Statystyka t: 145.61815604546564\n",
      "Wartość p: 4.1663634265815695e-282\n",
      "Odrzucamy hipotezę zerową. Istnieją istotne różnice między średnimi.\n"
     ]
    }
   ],
   "source": [
    "from scipy.stats import ttest_ind\n",
    "\n",
    "pary_napojow = [('okocim', 'lech'), ('fanta', 'regionalne'), ('cola', 'pepsi')]\n",
    "\n",
    "# Iteracja po parach napojów i przeprowadzenie testu t\n",
    "for para in pary_napojow:\n",
    "    napoj_a, napoj_b = para\n",
    "    stat, p_value = ttest_ind(df[napoj_a], df[napoj_b], equal_var=False)  # equal_var=False, ponieważ nie zakładamy równych wariancji\n",
    "\n",
    "    print(f\"Para: {napoj_a} - {napoj_b}\")\n",
    "    print(f\"Statystyka t: {stat}\")\n",
    "    print(f\"Wartość p: {p_value}\")\n",
    "\n",
    "    # Interpretacja wyników (przykładowo, przy poziomie istotności 0.05)\n",
    "    if p_value < 0.05:\n",
    "        print(\"Odrzucamy hipotezę zerową. Istnieją istotne różnice między średnimi.\\n\")\n",
    "    else:\n",
    "        print(\"Nie ma wystarczających dowodów na odrzucenie hipotezy zerowej.\\n\")"
   ],
   "metadata": {
    "collapsed": false,
    "ExecuteTime": {
     "end_time": "2023-12-05T07:53:56.202958300Z",
     "start_time": "2023-12-05T07:53:56.076979Z"
    }
   },
   "id": "4c46eab356d7d032"
  },
  {
   "cell_type": "markdown",
   "source": [
    "# ZADANIE 5"
   ],
   "metadata": {
    "collapsed": false
   },
   "id": "8baf646f3f54e83"
  },
  {
   "cell_type": "code",
   "execution_count": 32,
   "outputs": [
    {
     "name": "stdout",
     "output_type": "stream",
     "text": [
      "Para: okocim - lech\n",
      "Statystyka Levene'a: 1.191182232831977\n",
      "Wartość p: 0.2757791126546958\n",
      "Nie ma wystarczających dowodów na odrzucenie hipotezy zerowej.\n",
      "\n",
      "Para: żywiec - fanta\n",
      "Statystyka Levene'a: 1.4760992846958803\n",
      "Wartość p: 0.2251362462983421\n",
      "Nie ma wystarczających dowodów na odrzucenie hipotezy zerowej.\n",
      "\n",
      "Para: regionalne - cola\n",
      "Statystyka Levene'a: 83.85984593010029\n",
      "Wartość p: 3.275749775904902e-18\n",
      "Odrzucamy hipotezę zerową. Istnieją istotne różnice między wariancjami.\n"
     ]
    }
   ],
   "source": [
    "from scipy.stats import levene\n",
    "\n",
    "# Definicja par napojów do porównania wariancji\n",
    "pary_napojow_wariancje = [('okocim', 'lech'), ('żywiec', 'fanta'), ('regionalne', 'cola')]\n",
    "\n",
    "# Iteracja po parach napojów i przeprowadzenie testu Levene'a\n",
    "for para in pary_napojow_wariancje:\n",
    "    napoj_a, napoj_b = para\n",
    "    stat, p_value = levene(df[napoj_a], df[napoj_b])\n",
    "\n",
    "    print(f\"Para: {napoj_a} - {napoj_b}\")\n",
    "    print(f\"Statystyka Levene'a: {stat}\")\n",
    "    print(f\"Wartość p: {p_value}\")\n",
    "\n",
    "    # Interpretacja wyników (przykładowo, przy poziomie istotności 0.05)\n",
    "    if p_value < 0.05:\n",
    "        print(\"Odrzucamy hipotezę zerową. Istnieją istotne różnice między wariancjami.\\n\")\n",
    "    else:\n",
    "        print(\"Nie ma wystarczających dowodów na odrzucenie hipotezy zerowej.\\n\")"
   ],
   "metadata": {
    "collapsed": false,
    "ExecuteTime": {
     "end_time": "2023-12-05T07:53:56.203972600Z",
     "start_time": "2023-12-05T07:53:56.090997300Z"
    }
   },
   "id": "89550377ec2ba56c"
  },
  {
   "cell_type": "markdown",
   "source": [
    "# ZADANIE 6"
   ],
   "metadata": {
    "collapsed": false
   },
   "id": "50b0e80b39270286"
  },
  {
   "cell_type": "code",
   "execution_count": 33,
   "outputs": [
    {
     "name": "stdout",
     "output_type": "stream",
     "text": [
      "Statystyka t: -4.981131079425873\n",
      "Wartość p: 0.00041469788280755834\n",
      "Odrzucamy hipotezę zerową. Istnieją istotne różnice między średnimi lat 2001 i 2015.\n"
     ]
    }
   ],
   "source": [
    "from scipy.stats import ttest_rel\n",
    "\n",
    "# Wybranie tylko danych dotyczących piw regionalnych\n",
    "piwa_regionalne_2001 = df[df['rok'] == 2001]['regionalne']\n",
    "piwa_regionalne_2015 = df[df['rok'] == 2015]['regionalne']\n",
    "\n",
    "# Przeprowadzenie testu t dla zależnych prób\n",
    "stat, p_value = ttest_rel(piwa_regionalne_2001, piwa_regionalne_2015)\n",
    "\n",
    "print(\"Statystyka t:\", stat)\n",
    "print(\"Wartość p:\", p_value)\n",
    "\n",
    "# Interpretacja wyników (przykładowo, przy poziomie istotności 0.05)\n",
    "if p_value < 0.05:\n",
    "    print(\"Odrzucamy hipotezę zerową. Istnieją istotne różnice między średnimi lat 2001 i 2015.\\n\")\n",
    "else:\n",
    "    print(\"Nie ma wystarczających dowodów na odrzucenie hipotezy zerowej.\\n\")"
   ],
   "metadata": {
    "collapsed": false,
    "ExecuteTime": {
     "end_time": "2023-12-05T07:53:56.205026800Z",
     "start_time": "2023-12-05T07:53:56.101410900Z"
    }
   },
   "id": "9bddfff5979d973c"
  },
  {
   "cell_type": "markdown",
   "source": [
    "# ZADANIE 7"
   ],
   "metadata": {
    "collapsed": false
   },
   "id": "b6a02440f3e12bd7"
  },
  {
   "cell_type": "code",
   "execution_count": 34,
   "outputs": [
    {
     "name": "stdout",
     "output_type": "stream",
     "text": [
      "Cola:\n",
      "Statystyka t: 0.11032676911481809\n",
      "Wartość p: 0.9141373808316627\n",
      "\n",
      "Fanta:\n",
      "Statystyka t: 0.3199018672121306\n",
      "Wartość p: 0.7550366759257836\n",
      "\n",
      "Pepsi:\n",
      "Statystyka t: -0.20520478240138978\n",
      "Wartość p: 0.8411601080767367\n"
     ]
    }
   ],
   "source": [
    "df_po_reklamie = pd.read_csv('../docs/napoje_po_reklamie.csv', sep=';')\n",
    " \n",
    "# Wybranie tylko danych dotyczących Coli, Fanty i Pepsi\n",
    "cola_2016 = df[df['rok'] == 2016]['cola']\n",
    "fanta_2016 = df[df['rok'] == 2016]['fanta']\n",
    "pepsi_2016 = df[df['rok'] == 2016]['pepsi']\n",
    "\n",
    "cola_po_reklamie = df_po_reklamie['cola']\n",
    "fanta_po_reklamie = df_po_reklamie['fanta']\n",
    "pepsi_po_reklamie = df_po_reklamie['pepsi']\n",
    "\n",
    "# Przeprowadzenie testu t dla zależnych prób\n",
    "stat_cola, p_value_cola = ttest_rel(cola_2016, cola_po_reklamie)\n",
    "stat_fanta, p_value_fanta = ttest_rel(fanta_2016, fanta_po_reklamie)\n",
    "stat_pepsi, p_value_pepsi = ttest_rel(pepsi_2016, pepsi_po_reklamie)\n",
    "\n",
    "# Wydruk wyników\n",
    "print(\"Cola:\")\n",
    "print(\"Statystyka t:\", stat_cola)\n",
    "print(\"Wartość p:\", p_value_cola)\n",
    "print()\n",
    "\n",
    "print(\"Fanta:\")\n",
    "print(\"Statystyka t:\", stat_fanta)\n",
    "print(\"Wartość p:\", p_value_fanta)\n",
    "print()\n",
    "\n",
    "print(\"Pepsi:\")\n",
    "print(\"Statystyka t:\", stat_pepsi)\n",
    "print(\"Wartość p:\", p_value_pepsi)"
   ],
   "metadata": {
    "collapsed": false,
    "ExecuteTime": {
     "end_time": "2023-12-05T07:53:56.205963300Z",
     "start_time": "2023-12-05T07:53:56.122244600Z"
    }
   },
   "id": "22e79b1379620e43"
  }
 ],
 "metadata": {
  "kernelspec": {
   "display_name": "Python 3",
   "language": "python",
   "name": "python3"
  },
  "language_info": {
   "codemirror_mode": {
    "name": "ipython",
    "version": 2
   },
   "file_extension": ".py",
   "mimetype": "text/x-python",
   "name": "python",
   "nbconvert_exporter": "python",
   "pygments_lexer": "ipython2",
   "version": "2.7.6"
  }
 },
 "nbformat": 4,
 "nbformat_minor": 5
}
